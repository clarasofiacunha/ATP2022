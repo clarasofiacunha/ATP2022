{
 "cells": [
  {
   "cell_type": "code",
   "execution_count": 5,
   "metadata": {},
   "outputs": [
    {
     "name": "stdout",
     "output_type": "stream",
     "text": [
      "\n",
      "    Menu:\n",
      "    1 : Listar filmes em exebição;\n",
      "    2 : Verificar disponibilidade de um lugar;\n",
      "    3 : Vender bilhete;\n",
      "    4 : Listar número de lugares disponíveis por filme;\n",
      "    5 : Inserir sala;\n",
      "    0 : Sair.\n"
     ]
    }
   ],
   "source": [
    "#TPC4\n",
    "\n",
    "cinema=[]\n",
    "\n",
    "def listar(cinema):\n",
    "    print(\"Filmes em exibição:\")\n",
    "    for sala in cinema:\n",
    "        print(sala[2])\n",
    "    return\n",
    "\n",
    "def disponivel(cinema, filmep, lugar):\n",
    "    res=False\n",
    "    for sala in cinema:\n",
    "        lugares, vendidos, filme= sala\n",
    "        if filmep==filme and lugar not in vendidos and lugar<lugares:\n",
    "            res=True\n",
    "    return res\n",
    "\n",
    "def vendebilhete(cinema, filmep, lugar):\n",
    "    if disponivel(cinema, filmep, lugar):\n",
    "        for sala in cinema:\n",
    "            filme=sala[2]\n",
    "            if filmep==filme:\n",
    "                sala[1].append(lugar)\n",
    "                sala[1].sort\n",
    "        print(\"O bilhete foi vendido.\")\n",
    "    else:\n",
    "        print(\"O lugar não se encontra disponível.\")\n",
    "    return cinema\n",
    "\n",
    "def listardisponibilidade(cinema):\n",
    "    for sala in cinema:\n",
    "        lugares, vendidos, filme= sala\n",
    "        print(\"---------------------\")\n",
    "        print(\"Filme:\", filme)\n",
    "        print(\"Lugares disponíveis:\", lugares-len(vendidos))\n",
    "\n",
    "def inserirSala(cinema, sala):\n",
    "    if sala not in cinema:\n",
    "        cinema.append(sala)\n",
    "    return cinema\n",
    "\n",
    "def menu():\n",
    "    print('''\n",
    "    Menu:\n",
    "    1 : Listar filmes em exibição;\n",
    "    2 : Verificar disponibilidade de um lugar;\n",
    "    3 : Vender bilhete;\n",
    "    4 : Listar número de lugares disponíveis por filme;\n",
    "    5 : Inserir sala;\n",
    "    0 : Sair.''')\n",
    "\n",
    "menu()\n",
    "option=int(input(\"Selecione uma opção:\"))\n",
    "\n",
    "while option!=0:\n",
    "    if option==1:\n",
    "        listar(cinema)\n",
    "    if option==2:\n",
    "        filmep=str(input(\"Insira o filme:\"))\n",
    "        lugar=int(input(\"Insira o lugar:\"))\n",
    "        if disponivel(cinema,filmep,lugar):\n",
    "            print(\"O lugar encontra-se disponível\")\n",
    "        else:\n",
    "            print(\"O lugar não se encontra disponível\")\n",
    "\n",
    "    if option==3:\n",
    "        filmep=str(input(\"Insira o filme:\"))\n",
    "        lugar=int(input(\"Insira o lugar:\"))\n",
    "        cinema=vendebilhete(cinema, filmep, lugar)\n",
    "    if option==4:\n",
    "        listardisponibilidade(cinema)\n",
    "    if option==5:\n",
    "        sala=[]\n",
    "        sala.append(int(input(\"Insira o número de lugares da sala:\")))\n",
    "        sala.append([])\n",
    "        sala.append(str(input(\"Insira o nome do filme em exibição:\")))\n",
    "        cinema=inserirSala(cinema, sala)\n",
    "    menu()\n",
    "    option=int(input(\"Selecione uma opção:\"))\n"
   ]
  }
 ],
 "metadata": {
  "kernelspec": {
   "display_name": "Python 3.10.7 64-bit",
   "language": "python",
   "name": "python3"
  },
  "language_info": {
   "codemirror_mode": {
    "name": "ipython",
    "version": 3
   },
   "file_extension": ".py",
   "mimetype": "text/x-python",
   "name": "python",
   "nbconvert_exporter": "python",
   "pygments_lexer": "ipython3",
   "version": "3.10.7"
  },
  "orig_nbformat": 4,
  "vscode": {
   "interpreter": {
    "hash": "11bc3faa42291987dff8047a7fe728de8bffd01e5e426b1fc111590146fa91bf"
   }
  }
 },
 "nbformat": 4,
 "nbformat_minor": 2
}
