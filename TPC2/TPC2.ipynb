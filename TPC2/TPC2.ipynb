{
 "cells": [
  {
   "cell_type": "code",
   "execution_count": null,
   "metadata": {},
   "outputs": [
    {
     "ename": "",
     "evalue": "",
     "output_type": "error",
     "traceback": [
      "\u001b[1;31mRunning cells with 'Python 3.10.7 64-bit (microsoft store)' requires ipykernel package.\n",
      "\u001b[1;31mRun the following command to install 'ipykernel' into the Python environment. \n",
      "\u001b[1;31mCommand: 'c:/Users/Utilizador/AppData/Local/Microsoft/WindowsApps/python3.10.exe -m pip install ipykernel -U --force-reinstall'"
     ]
    }
   ],
   "source": [
    "#Computador Adivinha um Número\n",
    "\n",
    "import random \n",
    "contador = 0\n",
    "acertou = False\n",
    "numero = int(input(\"Número a adivinhar\"))\n",
    "minimo = 0\n",
    "maximo = 101\n",
    "while not acertou:\n",
    "    tentativa = (random.randrange (minimo, maximo))\n",
    "    if tentativa == numero:\n",
    "        acertou = True\n",
    "    elif tentativa > numero:\n",
    "        print (\"Escolheste o \" + str(tentativa) + \". Tenta um número menor.\")\n",
    "    else:\n",
    "        print(\"Escolheste o \" + str(tentativa) + \". Tenta um número maior.\")\n",
    "        minimo = tentativa + 1\n",
    "    contador = contador +1\n",
    "print(\"PARABÉNS! O número é o \" + str(numero) + \". Conseguiste após \" + str(contador) + \" tentativas.\")"
   ]
  }
 ],
 "metadata": {
  "kernelspec": {
   "display_name": "Python 3.10.7 64-bit",
   "language": "python",
   "name": "python3"
  },
  "language_info": {
   "name": "python",
   "version": "3.10.7"
  },
  "orig_nbformat": 4,
  "vscode": {
   "interpreter": {
    "hash": "a7dbb88c84ecda04e2dfa8176cb6708abf8c95c32934f510df16d1a1f4945387"
   }
  }
 },
 "nbformat": 4,
 "nbformat_minor": 2
}
