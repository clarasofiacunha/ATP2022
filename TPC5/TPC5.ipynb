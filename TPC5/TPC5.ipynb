{
 "cells": [
  {
   "cell_type": "code",
   "execution_count": null,
   "metadata": {},
   "outputs": [],
   "source": [
    "#TPC5\n",
    "\n",
    "def ler(file):\n",
    "    f=open(str(file),\"r\")\n",
    "    lista=[]\n",
    "\n",
    "    for line in f:     \n",
    "        paciente=line[:-1].split(\",\")\n",
    "        lista.append(paciente)\n",
    "    f.close\n",
    "    return lista\n",
    "\n",
    "def sexo(list):\n",
    "    m=0\n",
    "    f=0\n",
    "    for p in list:\n",
    "        if p[-1]==\"1\":\n",
    "            if p[1]==\"M\":\n",
    "                m+=1\n",
    "            if p[1]==\"F\":\n",
    "                f+=1\n",
    "    distrib=[(\"M\",m),(\"F\",f)]\n",
    "    return distrib\n",
    "    \n",
    "def idade(list):\n",
    "    distrib=[]\n",
    "    e=30\n",
    "    while e<85:\n",
    "        escalão=[e,e+5]\n",
    "        n=0\n",
    "        for p in list:\n",
    "            if p[-1]==\"1\" and escalão[0]<=int(p[0])<escalão[1]:\n",
    "                n+=1\n",
    "        distrib.append((escalão,n))\n",
    "        e+=5\n",
    "    return distrib\n",
    "\n",
    "def colesterol(list):\n",
    "    distrib=[]\n",
    "    e=0\n",
    "    while e<540:\n",
    "        escalão=[e,e+10]\n",
    "        n=0\n",
    "        for p in list:\n",
    "            if p[-1]==\"1\" and escalão[0]<=int(p[3])<escalão[1]:\n",
    "                    n+=1\n",
    "        distrib.append((escalão,n))\n",
    "        e+=10\n",
    "    return distrib\n",
    "\n",
    "def tabela(dados,criterio):\n",
    "    if criterio==sexo:\n",
    "        print(\"Sexo  | Nº de Doentes\")\n",
    "    if criterio==idade:\n",
    "        print(\"Idade | Nº de Doentes\")\n",
    "    if criterio==colesterol:\n",
    "        print(\"Colesterol | Nº de Doentes\")\n",
    "    for i in criterio(dados):\n",
    "        print(i[0],\"|\",i[1])\n",
    "    print(\"\\n\")\n",
    "dados=ler(\"myheart.csv\")\n",
    "\n",
    "tabela(dados,sexo)\n",
    "tabela(dados,idade)\n",
    "tabela(dados,colesterol)"
   ]
  }
 ],
 "metadata": {
  "kernelspec": {
   "display_name": "Python 3.10.7 64-bit",
   "language": "python",
   "name": "python3"
  },
  "language_info": {
   "name": "python",
   "version": "3.10.7"
  },
  "orig_nbformat": 4,
  "vscode": {
   "interpreter": {
    "hash": "11bc3faa42291987dff8047a7fe728de8bffd01e5e426b1fc111590146fa91bf"
   }
  }
 },
 "nbformat": 4,
 "nbformat_minor": 2
}
